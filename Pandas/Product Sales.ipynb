{
 "cells": [
  {
   "cell_type": "code",
   "execution_count": 1,
   "metadata": {},
   "outputs": [],
   "source": [
    "import pandas as pd"
   ]
  },
  {
   "cell_type": "code",
   "execution_count": 10,
   "metadata": {},
   "outputs": [
    {
     "name": "stdout",
     "output_type": "stream",
     "text": [
      "  Product  Total_Revenue\n",
      "0   Apple          250.0\n",
      "1  Banana          270.0\n",
      "2  Orange          360.0\n",
      "3   Mango          216.0\n"
     ]
    }
   ],
   "source": [
    "dct = {\n",
    "    'ID': [1, 2, 3, 4],\n",
    "    'Product': ['Apple', 'Banana', 'Orange', 'Mango'],\n",
    "    'Quantity': [100, 150, 120,80],\n",
    "    'Price_per_Unit': [2.5, 1.8, 3.0,2.7]\n",
    "}\n",
    "df = pd.DataFrame(dct)\n",
    "\n"
   ]
  },
  {
   "cell_type": "code",
   "execution_count": 11,
   "metadata": {},
   "outputs": [],
   "source": [
    "df['rev'] = [df['Quantity']*df['Price_per_Unit']]"
   ]
  },
  {
   "cell_type": "code",
   "execution_count": 12,
   "metadata": {},
   "outputs": [
    {
     "name": "stdout",
     "output_type": "stream",
     "text": [
      "  Product    rev\n",
      "0   Apple  250.0\n",
      "1  Banana  270.0\n",
      "2  Orange  360.0\n",
      "3   Mango  216.0\n"
     ]
    }
   ],
   "source": [
    "print(df[['Product','rev']])"
   ]
  },
  {
   "cell_type": "code",
   "execution_count": 21,
   "metadata": {},
   "outputs": [
    {
     "name": "stdout",
     "output_type": "stream",
     "text": [
      "Orange\n",
      "360.0\n"
     ]
    }
   ],
   "source": [
    "print(df.loc[df['rev'].idxmax(),'Product'])\n",
    "print(df['rev'].max())"
   ]
  },
  {
   "cell_type": "code",
   "execution_count": 25,
   "metadata": {},
   "outputs": [
    {
     "name": "stdout",
     "output_type": "stream",
     "text": [
      "274.0\n"
     ]
    }
   ],
   "source": [
    "print(df['rev'].mean())"
   ]
  },
  {
   "cell_type": "code",
   "execution_count": 28,
   "metadata": {},
   "outputs": [
    {
     "name": "stdout",
     "output_type": "stream",
     "text": [
      "450\n"
     ]
    }
   ],
   "source": [
    "print(df['Quantity'].sum())"
   ]
  },
  {
   "cell_type": "code",
   "execution_count": 30,
   "metadata": {},
   "outputs": [
    {
     "name": "stdout",
     "output_type": "stream",
     "text": [
      "4\n"
     ]
    }
   ],
   "source": [
    "print(df['Product'].nunique())"
   ]
  }
 ],
 "metadata": {
  "kernelspec": {
   "display_name": "base",
   "language": "python",
   "name": "python3"
  },
  "language_info": {
   "codemirror_mode": {
    "name": "ipython",
    "version": 3
   },
   "file_extension": ".py",
   "mimetype": "text/x-python",
   "name": "python",
   "nbconvert_exporter": "python",
   "pygments_lexer": "ipython3",
   "version": "3.9.12"
  }
 },
 "nbformat": 4,
 "nbformat_minor": 2
}
