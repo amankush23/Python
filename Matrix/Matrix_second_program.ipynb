{
 "cells": [
  {
   "cell_type": "code",
   "execution_count": 4,
   "metadata": {},
   "outputs": [
    {
     "name": "stdout",
     "output_type": "stream",
     "text": [
      "[6 9 12 16 10 54] <class '__main__.array'>\n",
      "[6 9 12 16 10 54]\n"
     ]
    }
   ],
   "source": [
    "class array:\n",
    "    def __init__(self,lst):\n",
    "        self.lst = lst\n",
    "    def __str__(self):\n",
    "        st = str(self.lst).replace(',', '')\n",
    "        return st\n",
    "    def __add__(self,other):\n",
    "        adder = []\n",
    "        if len(self.lst)==len(other.lst):\n",
    "            for i in range(len(self.lst)):\n",
    "                adder.append(self.lst[i]+other.lst[i])\n",
    "            return array(adder)\n",
    "        else:\n",
    "            return 'Length of the arrays are not equal!'\n",
    "    def reshape(self, m, n):\n",
    "        M = []\n",
    "        tmp = []\n",
    "        for i in self.lst:\n",
    "            tmp.append(i)\n",
    "            if len(tmp) == n:\n",
    "                M.append(tmp)\n",
    "                tmp = []\n",
    "        return array(M)\n",
    "\n",
    "arr1 = array([2,4,6,8,1,52])\n",
    "arr2 = array([4,5,6,8,9,2])\n",
    "out = arr1.reshape(2,3)\n",
    "# out = arr1+arr2\n",
    "# print(out, type(out))\n",
    "print(out)\n"
   ]
  },
  {
   "cell_type": "code",
   "execution_count": 2,
   "metadata": {},
   "outputs": [
    {
     "name": "stdout",
     "output_type": "stream",
     "text": [
      "[  1 200   3   4   5   6] <class 'numpy.ndarray'>\n",
      "[1, 200, 3, 4, 5, 6]\n",
      "False\n"
     ]
    }
   ],
   "source": [
    "import numpy as np\n",
    "ls = [1,200,3,4,5,6]\n",
    "arr = np.array(ls)\n",
    "# print(f'{arr=}')\n",
    "# print(f'{ls=}')\n",
    "print(arr, type(arr))\n",
    "print(ls)\n",
    "print(isinstance(ls, np.ndarray))"
   ]
  },
  {
   "cell_type": "code",
   "execution_count": 11,
   "metadata": {},
   "outputs": [],
   "source": [
    "import numpy as np\n",
    "import time\n",
    "data  = range(100000)\n",
    "arr1 = np.array(data)\n",
    "lst1 = list(data)"
   ]
  },
  {
   "cell_type": "code",
   "execution_count": 3,
   "metadata": {},
   "outputs": [
    {
     "name": "stdout",
     "output_type": "stream",
     "text": [
      "[18 10  9]\n"
     ]
    }
   ],
   "source": [
    "arr1 = np.array([10,4,6])\n",
    "arr2 = np.array([8,6,3])\n",
    "print(arr1+arr2)"
   ]
  },
  {
   "cell_type": "code",
   "execution_count": 55,
   "metadata": {},
   "outputs": [
    {
     "name": "stdout",
     "output_type": "stream",
     "text": [
      "list Time 0.009553670883178711\n",
      "arr Time 0.0025298595428466797\n"
     ]
    }
   ],
   "source": [
    "start = time.time()\n",
    "list_data = [i*2 for i in lst1]\n",
    "stop  = time.time()\n",
    "print('list Time', stop-start)\n",
    "\n",
    "start = time.time()\n",
    "arr_data = arr1*2\n",
    "stop  = time.time()\n",
    "print('arr Time', stop-start)"
   ]
  }
 ],
 "metadata": {
  "kernelspec": {
   "display_name": "Python 3",
   "language": "python",
   "name": "python3"
  },
  "language_info": {
   "codemirror_mode": {
    "name": "ipython",
    "version": 3
   },
   "file_extension": ".py",
   "mimetype": "text/x-python",
   "name": "python",
   "nbconvert_exporter": "python",
   "pygments_lexer": "ipython3",
   "version": "3.9.12"
  }
 },
 "nbformat": 4,
 "nbformat_minor": 2
}
