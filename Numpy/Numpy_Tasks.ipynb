{
 "cells": [
  {
   "cell_type": "code",
   "execution_count": 21,
   "metadata": {},
   "outputs": [],
   "source": [
    "import numpy as np"
   ]
  },
  {
   "cell_type": "code",
   "execution_count": 5,
   "metadata": {},
   "outputs": [
    {
     "name": "stdout",
     "output_type": "stream",
     "text": [
      "[2 3 4 5 6] 1\n"
     ]
    }
   ],
   "source": [
    "#example 1\n",
    "lst = [2,3,4,5,6]\n",
    "arr = np.array(lst)\n",
    "print(arr, arr.ndim)"
   ]
  },
  {
   "cell_type": "code",
   "execution_count": 12,
   "metadata": {},
   "outputs": [
    {
     "name": "stdout",
     "output_type": "stream",
     "text": [
      "[[2 3 6 4]\n",
      " [6 4 7 8]]\n",
      "(2, 4)\n",
      "2\n"
     ]
    }
   ],
   "source": [
    "lst = [[2,3,6,4],[6,4,7,8]]\n",
    "arr = np.array(lst)\n",
    "print(arr)\n",
    "print(arr.shape)\n",
    "print(arr.ndim)"
   ]
  },
  {
   "cell_type": "code",
   "execution_count": 15,
   "metadata": {},
   "outputs": [
    {
     "name": "stdout",
     "output_type": "stream",
     "text": [
      "[[ 5  7  9]\n",
      " [11 14  9]]\n"
     ]
    }
   ],
   "source": [
    "arr1= np.array([3,4,5,6,8,3])\n",
    "arr2 = np.array([2,3,4,5,6,6])\n",
    "\n",
    "# arr1.shape = (3,2)\n",
    "m1 = arr1.reshape(2,3)\n",
    "m2 = arr2.reshape(2,3)\n",
    "n = np.add(m1,m2)\n",
    "print(n)\n",
    "\n",
    "# print(m2)"
   ]
  },
  {
   "cell_type": "code",
   "execution_count": 16,
   "metadata": {},
   "outputs": [
    {
     "name": "stdout",
     "output_type": "stream",
     "text": [
      "[[4 5 6]\n",
      " [8 9 8]\n",
      " [5 6 4]]\n"
     ]
    }
   ],
   "source": [
    "#To make the elements to the list according to the shape\n",
    "import numpy as np\n",
    "lst = list(map(int, input().split()))\n",
    "arr = np.array(lst).reshape(3,3)\n",
    "print(arr)\n"
   ]
  },
  {
   "cell_type": "code",
   "execution_count": 20,
   "metadata": {},
   "outputs": [
    {
     "name": "stdout",
     "output_type": "stream",
     "text": [
      "[[1. 0. 0.]\n",
      " [0. 1. 0.]\n",
      " [0. 0. 1.]]\n"
     ]
    }
   ],
   "source": [
    "import numpy as np\n",
    "r,c = list(map(int, input().split()))\n",
    "out = np.eye(r,c)\n",
    "print(out)"
   ]
  },
  {
   "cell_type": "code",
   "execution_count": 3,
   "metadata": {},
   "outputs": [
    {
     "name": "stdout",
     "output_type": "stream",
     "text": [
      "array1: [5, 6, 8, 9]\n",
      "array2: [5, 6, 8, 9]\n",
      "[[10 12]\n",
      " [16 18]]\n",
      "[[0 0]\n",
      " [0 0]]\n",
      "[[25 36]\n",
      " [64 81]]\n",
      "[[1. 1.]\n",
      " [1. 1.]]\n",
      "[[0 0]\n",
      " [0 0]]\n",
      "[[     3125     46656]\n",
      " [ 16777216 387420489]]\n"
     ]
    }
   ],
   "source": [
    "#task 4\n",
    "import numpy as np\n",
    "arr1 = list(map(int, input().split()))\n",
    "arr2 = list(map(int, input().split()))\n",
    "r, c = list(map(int, input().split()))\n",
    "print('array1:', arr1)\n",
    "print('array2:', arr2)\n",
    "m1= np.array(arr1).reshape(r, c)\n",
    "m2= np.array(arr2).reshape(r, c)\n",
    "addition = np.add(m1, m2)\n",
    "substration = np.subtract(m1, m2)\n",
    "multip = np.multiply(m1, m2)\n",
    "div = np.floor_divide(m1, m2)\n",
    "mod= np.mod(m1, m2)\n",
    "power = np.power(m1,m2)\n",
    "print(addition)\n",
    "print(substration)\n",
    "print(multip)\n",
    "print(div)\n",
    "print(mod)\n",
    "print(power)\n"
   ]
  },
  {
   "cell_type": "code",
   "execution_count": 6,
   "metadata": {},
   "outputs": [
    {
     "name": "stdout",
     "output_type": "stream",
     "text": [
      "array1: [5, 6, 9, 8, 6, 8, 9, 5, 8]\n",
      "[[5 8 9]\n",
      " [6 6 5]\n",
      " [9 8 8]]\n"
     ]
    }
   ],
   "source": [
    "#transpose\n",
    "import numpy as np\n",
    "arr1 = list(map(int, input().split()))\n",
    "r, c = list(map(int, input().split()))\n",
    "print('array1:', arr1)\n",
    "m1= np.array(arr1).reshape(r, c)\n",
    "tran = np.transpose(m1)\n",
    "print(tran)"
   ]
  },
  {
   "cell_type": "code",
   "execution_count": null,
   "metadata": {},
   "outputs": [],
   "source": [
    "import numpy as np\n",
    "arr1 = list(map(int, input().split()))\n",
    "r, c = list(map(int, input().split()))\n",
    "print('array1:', arr1)\n",
    "m1= np.array(arr1).reshape(r, c)\n",
    "flat = np.flatten(m1)\n",
    "print(tran)"
   ]
  }
 ],
 "metadata": {
  "kernelspec": {
   "display_name": "Python 3",
   "language": "python",
   "name": "python3"
  },
  "language_info": {
   "codemirror_mode": {
    "name": "ipython",
    "version": 3
   },
   "file_extension": ".py",
   "mimetype": "text/x-python",
   "name": "python",
   "nbconvert_exporter": "python",
   "pygments_lexer": "ipython3",
   "version": "3.9.12"
  }
 },
 "nbformat": 4,
 "nbformat_minor": 2
}
